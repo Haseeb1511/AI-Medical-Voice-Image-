{
 "cells": [
  {
   "cell_type": "code",
   "execution_count": 1,
   "id": "774b6655",
   "metadata": {},
   "outputs": [
    {
     "data": {
      "text/plain": [
       "True"
      ]
     },
     "execution_count": 1,
     "metadata": {},
     "output_type": "execute_result"
    }
   ],
   "source": [
    "from dotenv import load_dotenv\n",
    "import base64\n",
    "from io import BytesIO\n",
    "from PIL import Image\n",
    "from groq import Groq\n",
    "load_dotenv()"
   ]
  },
  {
   "cell_type": "code",
   "execution_count": 3,
   "id": "d0973166",
   "metadata": {},
   "outputs": [],
   "source": [
    "image_path =\"image/acne.jpg\"\n",
    "\n",
    "def extract_text_from_image(image,format):\n",
    "    buffered = BytesIO()  # load in RAM\n",
    "    image.save(buffered,format=format)\n",
    "    image_base64 = base64.b64encode(buffered.getvalue()).decode()\n",
    "    return f\"data:image/{format.lower()};base64,{image_base64}\"\n",
    "\n",
    "image = Image.open(image_path)\n",
    "pic = extract_text_from_image(image,format=\"JPEG\")"
   ]
  },
  {
   "cell_type": "code",
   "execution_count": 5,
   "id": "1e5f7843",
   "metadata": {},
   "outputs": [],
   "source": [
    "client = Groq()\n",
    "model = \"meta-llama/llama-4-scout-17b-16e-instruct\""
   ]
  },
  {
   "cell_type": "code",
   "execution_count": 7,
   "metadata": {},
   "outputs": [],
   "source": [
    "query = \"what is wrong with my skin\"\n",
    "messages = [{\"role\":\"user\",\n",
    "             \"content\":[\n",
    "                 {\"type\":\"text\",\"text\":query},\n",
    "                 {\"type\":\"image_url\",\"image_url\":{\"url\":pic}}\n",
    "             ]\n",
    "\n",
    "             }]"
   ]
  },
  {
   "cell_type": "code",
   "execution_count": 8,
   "id": "54903abd",
   "metadata": {},
   "outputs": [
    {
     "name": "stdout",
     "output_type": "stream",
     "text": [
      "I'm not a doctor, but I can try to help you identify some possible causes of skin issues. Based on the image, it appears that the person has some red, inflamed bumps on their cheek and jawline, which could be acne, rosacea, or another skin condition.\n",
      "\n",
      "To better understand what might be going on with your skin, could you tell me more about your skin concerns? For example:\n",
      "\n",
      "* What are your skin issues (acne, dryness, sensitivity, etc.)?\n",
      "* Have you recently changed your skincare routine or products?\n",
      "* Do you have any allergies or sensitivities?\n",
      "* Have you noticed any triggers that make your skin worse?\n",
      "\n",
      "Keep in mind that it's always best to consult a dermatologist for personalized advice and diagnosis. They can help you determine the underlying cause of your skin issues and recommend the most effective treatment plan.\n"
     ]
    }
   ],
   "source": [
    "chat_completion = client.chat.completions.create(\n",
    "    messages=messages,\n",
    "    model=model\n",
    ")\n",
    "print(chat_completion.choices[0].message.content)"
   ]
  },
  {
   "cell_type": "markdown",
   "id": "342b6e1e",
   "metadata": {},
   "source": [
    "# Voice Record"
   ]
  },
  {
   "cell_type": "code",
   "execution_count": 1,
   "id": "678872e5",
   "metadata": {},
   "outputs": [],
   "source": [
    "import speech_recognition as sr\n",
    "from pydub import AudioSegment\n",
    "from io import BytesIO"
   ]
  },
  {
   "cell_type": "code",
   "execution_count": 2,
   "id": "b6caf07c",
   "metadata": {},
   "outputs": [],
   "source": [
    "import logging\n",
    "logging.basicConfig(format='%(asctime)s - %(levelname)s - %(message)s', level=logging.INFO)"
   ]
  },
  {
   "cell_type": "code",
   "execution_count": 13,
   "id": "442c41fe",
   "metadata": {},
   "outputs": [
    {
     "name": "stderr",
     "output_type": "stream",
     "text": [
      "2025-05-23 00:08:48,225 - INFO - adjusting the ambient noise\n",
      "2025-05-23 00:08:49,242 - INFO - start speaking now....\n",
      "2025-05-23 00:08:56,723 - INFO - Recording completed\n",
      "2025-05-23 00:08:56,941 - INFO - Audio File saved to output.mp3\n"
     ]
    }
   ],
   "source": [
    "\n",
    "def record_audio(file_path):\n",
    "    \"\"\"This function recognize the audio and convert it mp3 format and then save it to specified file path\"\"\"\n",
    "    recognizer = sr.Recognizer()\n",
    "    try:\n",
    "        with sr.Microphone() as source:\n",
    "            logging.info(\"adjusting the ambient noise\")\n",
    "            recognizer.adjust_for_ambient_noise(source,duration=1)\n",
    "            logging.info(\"start speaking now....\")\n",
    "\n",
    "            audio = recognizer.listen(source=source,timeout=25)\n",
    "            logging.info(\"Recording completed\")\n",
    "\n",
    "             # Convert WAV bytes to AudioSegment\n",
    "            wav_data = audio.get_wav_data()\n",
    "            audio_segment = AudioSegment.from_file(BytesIO(wav_data),format=\"wav\")\n",
    "\n",
    "            # Export as mp3\n",
    "            audio_segment.export(file_path,format=\"mp3\",bitrate=\"128k\")\n",
    "            logging.info(f\"Audio File saved to {file_path}\")\n",
    "\n",
    "    except Exception as e:\n",
    "        logging.error(f\"Error occured: {e}\")\n",
    "\n",
    "audio_path = \"output.mp3\"\n",
    "record_audio(audio_path)\n"
   ]
  },
  {
   "cell_type": "markdown",
   "id": "d08d6987",
   "metadata": {},
   "source": [
    "## Speech To Text Model"
   ]
  },
  {
   "cell_type": "code",
   "execution_count": 14,
   "id": "65e50ab4",
   "metadata": {},
   "outputs": [
    {
     "name": "stderr",
     "output_type": "stream",
     "text": [
      "2025-05-23 00:09:29,178 - INFO - HTTP Request: POST https://api.groq.com/openai/v1/audio/transcriptions \"HTTP/1.1 200 OK\"\n"
     ]
    },
    {
     "name": "stdout",
     "output_type": "stream",
     "text": [
      " Hello, how are you? Good morning, Mr. I am Hashim Manzoo.\n"
     ]
    }
   ],
   "source": [
    "client = Groq()\n",
    "model_stt = \"whisper-large-v3-turbo\"\n",
    "audio_file = open(audio_path,\"rb\")\n",
    "\n",
    "transcription = client.audio.transcriptions.create(\n",
    "    model=model_stt,\n",
    "    file = audio_file,\n",
    "    language=\"en\"\n",
    "    )\n",
    "print(transcription.text)"
   ]
  },
  {
   "cell_type": "markdown",
   "id": "8ffb3d1d",
   "metadata": {},
   "source": [
    "# Text To Speech"
   ]
  },
  {
   "cell_type": "code",
   "execution_count": null,
   "id": "bd79e208",
   "metadata": {},
   "outputs": [],
   "source": [
    "import os\n",
    "from gtts import gTTS\n"
   ]
  },
  {
   "cell_type": "markdown",
   "id": "f8319412",
   "metadata": {},
   "source": [
    "### Play Audio Automaticall as it is Generated"
   ]
  },
  {
   "cell_type": "code",
   "execution_count": null,
   "id": "0c2f3cd2",
   "metadata": {},
   "outputs": [],
   "source": [
    "import subprocess\n",
    "import platform\n",
    "\n",
    "def play_audio(file_path):\n",
    "    system = platform.system()\n",
    "\n",
    "    try:\n",
    "        if system == \"Windows\":\n",
    "            subprocess.run([\n",
    "                \"powershell\",\n",
    "                \"-c\",\n",
    "                f\"(New-Object Media.SoundPlayer '{file_path}').PlaySync();\"\n",
    "            ])\n",
    "        elif system == \"Darwin\":\n",
    "            subprocess.run(['afplay', file_path], check=True)\n",
    "        elif system == \"Linux\":\n",
    "            subprocess.run(['mpg123', file_path], check=True)\n",
    "        else:\n",
    "            print(\"Unsupported OS.\")\n",
    "    except Exception as e:\n",
    "        print(f\"Error: {e}\")\n"
   ]
  },
  {
   "cell_type": "markdown",
   "id": "904b5a15",
   "metadata": {},
   "source": [
    "## Google-Text-To-Speech(gTTs)"
   ]
  },
  {
   "cell_type": "code",
   "execution_count": 14,
   "id": "a03e5cbb",
   "metadata": {},
   "outputs": [],
   "source": [
    "def text_to_speech_gtts(input_text,file_path):\n",
    "    audioobj = gTTS(\n",
    "        text=input_text,\n",
    "        lang=\"en\",\n",
    "        slow=False\n",
    "    )\n",
    "    audioobj.save(file_path)\n",
    "    play_audio(file_path)\n",
    "\n",
    "\n",
    "os.makedirs(\"ai_audio\",exist_ok=True)   # create directory\n",
    "input_text = \"my name is umer and i am very blach man .and i am dirty and ugly hahaha\"  #input text\n",
    "ai_save_path =\"ai_audio/ai.mp3\" \n",
    "text_to_speech_gtts(input_text=input_text,file_path=ai_save_path)"
   ]
  },
  {
   "cell_type": "markdown",
   "id": "b908926c",
   "metadata": {},
   "source": [
    "## Eleven Labs Audio"
   ]
  },
  {
   "cell_type": "markdown",
   "id": "c2f6224e",
   "metadata": {},
   "source": [
    "#### Eleven Labs Audio Model"
   ]
  },
  {
   "cell_type": "code",
   "execution_count": 9,
   "id": "58f092d7",
   "metadata": {},
   "outputs": [
    {
     "name": "stdout",
     "output_type": "stream",
     "text": [
      "Aria: 9BWtsMINqrJLrRacOk9x\n",
      "Sarah: EXAVITQu4vr4xnSDxMaL\n",
      "Laura: FGY2WhTYpPnrIDTdsKH5\n",
      "Charlie: IKne3meq5aSn9XLyUdCD\n",
      "George: JBFqnCBsd6RMkjVDRZzb\n",
      "Callum: N2lVS1w4EtoT3dr4eOWO\n",
      "River: SAz9YHcvj6GT2YYXdXww\n",
      "Liam: TX3LPaxmHKxFdv7VOQHJ\n",
      "Charlotte: XB0fDUnXU5powFXDhCwa\n",
      "Alice: Xb7hH8MSUJpSbSDYk0k2\n",
      "Matilda: XrExE9yKIg1WjnnlVkGX\n",
      "Will: bIHbv24MWmeRgasZH58o\n",
      "Jessica: cgSgspJ2msm6clMCkdW9\n",
      "Eric: cjVigY5qzO86Huf0OWal\n",
      "Chris: iP95p4xoKVk53GoZ742B\n",
      "Brian: nPczCjzI2devNBz1zQrb\n",
      "Daniel: onwK4e9ZLuTAKqWW03F9\n",
      "Lily: pFZP5JQG7iQjIQuC4Bku\n",
      "Bill: pqHfZKP75CvOlQylNhV4\n"
     ]
    }
   ],
   "source": [
    "# To check avalibale voices\n",
    "\n",
    "from elevenlabs.client import ElevenLabs\n",
    "client = ElevenLabs()\n",
    "\n",
    "# List available voices\n",
    "voices = client.voices.get_all()\n",
    "\n",
    "for voice in voices.voices:\n",
    "    print(f\"{voice.name}: {voice.voice_id}\")\n"
   ]
  },
  {
   "cell_type": "code",
   "execution_count": null,
   "id": "f2c73875",
   "metadata": {},
   "outputs": [],
   "source": [
    "from elevenlabs.client import ElevenLabs\n",
    "\n",
    "def text_to_speech_elevenlabs(input_text,file_path):\n",
    "    client = ElevenLabs()\n",
    "    audio = client.text_to_speech.convert(\n",
    "        text=input_text,\n",
    "        voice_id=\"JBFqnCBsd6RMkjVDRZzb\",\n",
    "        model_id=\"eleven_turbo_v2\",\n",
    "        output_format=\"mp3_44100_128\"\n",
    "    )\n",
    "    with open(file_path,\"wb\") as f:  # model return generator thats why we save it chunk by chunk\n",
    "        for chunk in audio:\n",
    "            f.write(chunk)\n",
    "    play_audio(file_path)\n",
    "\n",
    "input_text=\"Hi my name is haseeb and i am from pakistan and i have BS in Electrical engineering\"\n",
    "ai_save_path =\"ai_audio/eleven_labs.mp3\" \n",
    "text_to_speech_elevenlabs(input_text=input_text,file_path=ai_save_path)\n",
    "    \n"
   ]
  },
  {
   "cell_type": "code",
   "execution_count": null,
   "id": "a0aeac95",
   "metadata": {},
   "outputs": [],
   "source": []
  }
 ],
 "metadata": {
  "kernelspec": {
   "display_name": "ai-voice-medbot",
   "language": "python",
   "name": "python3"
  },
  "language_info": {
   "codemirror_mode": {
    "name": "ipython",
    "version": 3
   },
   "file_extension": ".py",
   "mimetype": "text/x-python",
   "name": "python",
   "nbconvert_exporter": "python",
   "pygments_lexer": "ipython3",
   "version": "3.12.7"
  }
 },
 "nbformat": 4,
 "nbformat_minor": 5
}
